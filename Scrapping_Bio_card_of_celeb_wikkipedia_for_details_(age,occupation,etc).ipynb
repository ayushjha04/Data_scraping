{
 "cells": [
  {
   "cell_type": "code",
   "execution_count": 1,
   "metadata": {},
   "outputs": [],
   "source": [
    "import pandas as pd"
   ]
  },
  {
   "cell_type": "raw",
   "metadata": {},
   "source": [
    "# for example take the list of the celebrities or in case u have it some data frame convert tha column to list\n",
    "\n",
    "emails = []            \n",
    "for i in df[\"names\"]:   # where df is the dataframe with name as the column\n",
    "     emails.append(i)     \n",
    "for i in emails:          \n",
    "     i.replace((\" \"),(\"_\"))\n",
    "\n",
    "# this has to be done as the spaces has to be removed with underscore for the creating the links.\n"
   ]
  },
  {
   "cell_type": "code",
   "execution_count": 5,
   "metadata": {},
   "outputs": [
    {
     "name": "stdout",
     "output_type": "stream",
     "text": [
      "https://en.wikipedia.org/wiki/Aaron_Paul\n",
      "https://en.wikipedia.org/wiki/Sofia_Vergara\n",
      "https://en.wikipedia.org/wiki/John_Stamos\n",
      "https://en.wikipedia.org/wiki/Lena_Dunham\n",
      "https://en.wikipedia.org/wiki/Anna_Kendrick\n"
     ]
    }
   ],
   "source": [
    "emails = [\"Aaron_Paul\",\"Sofia_Vergara\",\"John_Stamos\",\"Lena_Dunham\",\"Anna_Kendrick\"]\n",
    "\n",
    "base_url=\"https://en.wikipedia.org/wiki/{}\"\n",
    "\n",
    "for i in emails:\n",
    "    print(base_url.format(i))"
   ]
  },
  {
   "cell_type": "code",
   "execution_count": 6,
   "metadata": {},
   "outputs": [
    {
     "name": "stderr",
     "output_type": "stream",
     "text": [
      "100%|████████████████████████████████████████████████████████████████████████████████████| 5/5 [00:07<00:00,  1.47s/it]\n"
     ]
    }
   ],
   "source": [
    "from selenium import webdriver\n",
    "import os\n",
    "path_tounzipfile = \"C:\\\\Users\\\\Administrator\\\\Desktop\\\\data scrapimg and wrangling\\\\zip\"\n",
    "os.chdir(path_tounzipfile)\n",
    "browser = webdriver.Firefox(path_tounzipfile)\n",
    "\n",
    "from bs4 import BeautifulSoup\n",
    "\n",
    "base_url=\"https://en.wikipedia.org/wiki/{}\"\n",
    "\n",
    "master ={}\n",
    "from tqdm import tqdm\n",
    "for i in tqdm(emails):\n",
    "    url=base_url.format(i)\n",
    "    browser.get(url)\n",
    "    html =browser.page_source\n",
    "    soup = BeautifulSoup(html,'html.parser')\n",
    "    \n",
    "    table=soup.find_all(\"table\",class_='infobox biography vcard')\n",
    "    tbody = table[0].find_all(\"tbody\")\n",
    "    tr = tbody[0].find_all(\"tr\")\n",
    "    td = tr[2].find_all(\"td\")\n",
    "    age=td[0].find_all(\"span\",class_= \"noprint ForceAgeToShow\")[0].text\n",
    "    a=age[-3:-1]\n",
    "    master[i]=a"
   ]
  },
  {
   "cell_type": "code",
   "execution_count": 7,
   "metadata": {},
   "outputs": [
    {
     "data": {
      "text/plain": [
       "{'Aaron_Paul': '40',\n",
       " 'Sofia_Vergara': '47',\n",
       " 'John_Stamos': '56',\n",
       " 'Lena_Dunham': '33',\n",
       " 'Anna_Kendrick': '34'}"
      ]
     },
     "execution_count": 7,
     "metadata": {},
     "output_type": "execute_result"
    }
   ],
   "source": [
    "master"
   ]
  },
  {
   "cell_type": "code",
   "execution_count": 32,
   "metadata": {},
   "outputs": [],
   "source": [
    "# now again changing the names in the previous form\n",
    "\n",
    "final_d={}\n",
    "for i in master.keys():\n",
    "    final_d[(i.replace((\"_\"),(\" \")))] = master[i]\n",
    "    "
   ]
  },
  {
   "cell_type": "code",
   "execution_count": 41,
   "metadata": {},
   "outputs": [
    {
     "data": {
      "text/plain": [
       "{'Aaron Paul': '40',\n",
       " 'Sofia Vergara': '47',\n",
       " 'John Stamos': '56',\n",
       " 'Lena Dunham': '33',\n",
       " 'Anna Kendrick': '34'}"
      ]
     },
     "execution_count": 41,
     "metadata": {},
     "output_type": "execute_result"
    }
   ],
   "source": [
    "final_d"
   ]
  },
  {
   "cell_type": "code",
   "execution_count": 45,
   "metadata": {},
   "outputs": [],
   "source": [
    "age_df = pd.DataFrame(final_d.items(),columns=[\"fullName\",\"age\"])"
   ]
  },
  {
   "cell_type": "code",
   "execution_count": 46,
   "metadata": {},
   "outputs": [
    {
     "data": {
      "text/html": [
       "<div>\n",
       "<style scoped>\n",
       "    .dataframe tbody tr th:only-of-type {\n",
       "        vertical-align: middle;\n",
       "    }\n",
       "\n",
       "    .dataframe tbody tr th {\n",
       "        vertical-align: top;\n",
       "    }\n",
       "\n",
       "    .dataframe thead th {\n",
       "        text-align: right;\n",
       "    }\n",
       "</style>\n",
       "<table border=\"1\" class=\"dataframe\">\n",
       "  <thead>\n",
       "    <tr style=\"text-align: right;\">\n",
       "      <th></th>\n",
       "      <th>fullName</th>\n",
       "      <th>age</th>\n",
       "    </tr>\n",
       "  </thead>\n",
       "  <tbody>\n",
       "    <tr>\n",
       "      <th>0</th>\n",
       "      <td>Aaron Paul</td>\n",
       "      <td>40</td>\n",
       "    </tr>\n",
       "    <tr>\n",
       "      <th>1</th>\n",
       "      <td>Sofia Vergara</td>\n",
       "      <td>47</td>\n",
       "    </tr>\n",
       "    <tr>\n",
       "      <th>2</th>\n",
       "      <td>John Stamos</td>\n",
       "      <td>56</td>\n",
       "    </tr>\n",
       "    <tr>\n",
       "      <th>3</th>\n",
       "      <td>Lena Dunham</td>\n",
       "      <td>33</td>\n",
       "    </tr>\n",
       "    <tr>\n",
       "      <th>4</th>\n",
       "      <td>Anna Kendrick</td>\n",
       "      <td>34</td>\n",
       "    </tr>\n",
       "  </tbody>\n",
       "</table>\n",
       "</div>"
      ],
      "text/plain": [
       "        fullName age\n",
       "0     Aaron Paul  40\n",
       "1  Sofia Vergara  47\n",
       "2    John Stamos  56\n",
       "3    Lena Dunham  33\n",
       "4  Anna Kendrick  34"
      ]
     },
     "execution_count": 46,
     "metadata": {},
     "output_type": "execute_result"
    }
   ],
   "source": [
    "age_df  # now merge this data frame to the originak data frame"
   ]
  },
  {
   "cell_type": "code",
   "execution_count": null,
   "metadata": {},
   "outputs": [],
   "source": [
    "# Simillarly we can fetch any details from the bio card like occupation, website, etc"
   ]
  }
 ],
 "metadata": {
  "kernelspec": {
   "display_name": "Python 3",
   "language": "python",
   "name": "python3"
  },
  "language_info": {
   "codemirror_mode": {
    "name": "ipython",
    "version": 3
   },
   "file_extension": ".py",
   "mimetype": "text/x-python",
   "name": "python",
   "nbconvert_exporter": "python",
   "pygments_lexer": "ipython3",
   "version": "3.7.3"
  }
 },
 "nbformat": 4,
 "nbformat_minor": 2
}
