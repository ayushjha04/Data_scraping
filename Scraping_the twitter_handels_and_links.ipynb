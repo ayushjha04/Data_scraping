{
 "cells": [
  {
   "cell_type": "code",
   "execution_count": 1,
   "metadata": {},
   "outputs": [],
   "source": [
    "from selenium import webdriver\n",
    "import os\n",
    "path_tounzipfileie=\"C:\\\\Users\\\\Administrator\\\\Desktop\\\\data scrapimg and wrangling\\\\zip\"\n",
    "os.chdir(path_tounzipfileie)\n",
    "browser=webdriver.Firefox(path_tounzipfileie)"
   ]
  },
  {
   "cell_type": "markdown",
   "metadata": {},
   "source": [
    "## Twitter handels"
   ]
  },
  {
   "cell_type": "code",
   "execution_count": 5,
   "metadata": {},
   "outputs": [],
   "source": [
    "url=\"http://www.socialsamosa.com/2014/05/indian-celebrities-twitter/\"\n",
    "browser.get(url)"
   ]
  },
  {
   "cell_type": "code",
   "execution_count": 6,
   "metadata": {},
   "outputs": [],
   "source": [
    "def celeb(x):\n",
    "    from bs4 import BeautifulSoup\n",
    "    html=browser.page_source\n",
    "    soup = BeautifulSoup(html,'html.parser')\n",
    "   \n",
    "    \n",
    "    title=[]\n",
    "    for i in soup.find_all(\"div\",class_=\"td-post-text-content\"):\n",
    "        for j in range(50):\n",
    "            title.append(i.find_all(\"h2\")[j].text)\n",
    "        \n",
    "    \n",
    "    \n",
    "    import pandas as pd\n",
    "    table=pd.DataFrame({'Title':title})\n",
    "    return table"
   ]
  },
  {
   "cell_type": "code",
   "execution_count": 7,
   "metadata": {},
   "outputs": [],
   "source": [
    "new=celeb(url)"
   ]
  },
  {
   "cell_type": "code",
   "execution_count": 8,
   "metadata": {},
   "outputs": [],
   "source": [
    "#new"
   ]
  },
  {
   "cell_type": "code",
   "execution_count": 9,
   "metadata": {},
   "outputs": [],
   "source": [
    "celeb_tweet_acc = new[\"Title\"].str.split(\"–\",expand=True)"
   ]
  },
  {
   "cell_type": "code",
   "execution_count": 10,
   "metadata": {},
   "outputs": [],
   "source": [
    "celeb_tweet_acc.iloc[42] = [\"Dabboo Ratnani\",\"@DabbooRatnani\"]"
   ]
  },
  {
   "cell_type": "code",
   "execution_count": 11,
   "metadata": {},
   "outputs": [],
   "source": [
    "name=[]\n",
    "twitter=[]\n",
    "for i in celeb_tweet_acc[0].str.strip():\n",
    "    name.append(i)\n",
    "for i in celeb_tweet_acc[1].str.strip():\n",
    "    twitter.append(i)\n",
    "\n",
    "new_dict_for={}\n",
    "for n in range(len(name)):\n",
    "        new_dict_for[name[n]] = twitter[n]\n",
    "#new_dict_for"
   ]
  },
  {
   "cell_type": "code",
   "execution_count": null,
   "metadata": {},
   "outputs": [],
   "source": []
  },
  {
   "cell_type": "markdown",
   "metadata": {},
   "source": [
    "## Twitter links"
   ]
  },
  {
   "cell_type": "code",
   "execution_count": 12,
   "metadata": {},
   "outputs": [],
   "source": [
    "url=\"http://profilerehab.com/actors_twitter_accounts\"\n",
    "browser.get(url)"
   ]
  },
  {
   "cell_type": "code",
   "execution_count": 13,
   "metadata": {},
   "outputs": [],
   "source": [
    "def celeb_email(x):\n",
    "    import re\n",
    "    from bs4 import BeautifulSoup\n",
    "    html=browser.page_source\n",
    "    soup = BeautifulSoup(html,'html.parser') \n",
    "    \n",
    "    name=[]\n",
    "    for i in soup.find_all('div', id=re.compile('^entry'),class_=\"actorsTwitter\"):\n",
    "        for j in range(0,140,2):\n",
    "            name.append(i.find_all(\"strong\")[j].text)\n",
    "\n",
    "    id=[]\n",
    "    for i in soup.find_all('div', id=re.compile('^entry'),class_=\"actorsTwitter\"):\n",
    "        for j in range(70):\n",
    "            id.append(i.find_all(\"a\")[j].text)\n",
    "\n",
    "    \n",
    "    import pandas as pd\n",
    "    table=pd.DataFrame({'Name':name,'Id':id})\n",
    "    return table\n",
    "\n"
   ]
  },
  {
   "cell_type": "code",
   "execution_count": 15,
   "metadata": {},
   "outputs": [],
   "source": [
    "new=celeb_email(url)"
   ]
  },
  {
   "cell_type": "code",
   "execution_count": 16,
   "metadata": {},
   "outputs": [],
   "source": [
    "new.to_csv('twitter_emils_celeb.csv')"
   ]
  },
  {
   "cell_type": "code",
   "execution_count": 17,
   "metadata": {},
   "outputs": [],
   "source": [
    "name=[]\n",
    "twitter=[]\n",
    "for i in new[\"Name\"].str.strip():\n",
    "    name.append(i)\n",
    "for i in new[\"Id\"].str.strip():\n",
    "    twitter.append(i)"
   ]
  },
  {
   "cell_type": "code",
   "execution_count": 19,
   "metadata": {},
   "outputs": [],
   "source": [
    "#twitter"
   ]
  },
  {
   "cell_type": "code",
   "execution_count": null,
   "metadata": {},
   "outputs": [],
   "source": []
  }
 ],
 "metadata": {
  "kernelspec": {
   "display_name": "Python 3",
   "language": "python",
   "name": "python3"
  },
  "language_info": {
   "codemirror_mode": {
    "name": "ipython",
    "version": 3
   },
   "file_extension": ".py",
   "mimetype": "text/x-python",
   "name": "python",
   "nbconvert_exporter": "python",
   "pygments_lexer": "ipython3",
   "version": "3.7.3"
  }
 },
 "nbformat": 4,
 "nbformat_minor": 2
}
